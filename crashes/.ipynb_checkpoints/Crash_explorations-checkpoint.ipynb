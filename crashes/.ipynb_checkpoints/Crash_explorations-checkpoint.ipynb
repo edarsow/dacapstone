{
 "cells": [
  {
   "cell_type": "code",
   "execution_count": 12,
   "metadata": {},
   "outputs": [
    {
     "name": "stdout",
     "output_type": "stream",
     "text": [
      "Crash Record Number                  int64\n",
      "County Code                          int64\n",
      "County Name                         object\n",
      "Municipality Code                    int64\n",
      "Municipality Name                   object\n",
      "District Code                        int64\n",
      "District Name                       object\n",
      "Police Agency Code                  object\n",
      "Police Agency Name                  object\n",
      "Crash Year                           int64\n",
      "Crash Month                          int64\n",
      "Day of Week                          int64\n",
      "Time of Day                          int64\n",
      "Hour of Day                          int64\n",
      "Illumination                        object\n",
      "Weather                             object\n",
      "Road Condition                      object\n",
      "Collision Type                      object\n",
      "Work Zone Type                      object\n",
      "Work Zone Location                  object\n",
      "Intersection Type                   object\n",
      "Traffic Control Device              object\n",
      "Location Type                       object\n",
      "Urban / Rural                       object\n",
      "Fatality Count                       int64\n",
      "Injury Count                         int64\n",
      "Person Count                         int64\n",
      "Total Unit Count                     int64\n",
      "School Bus Indicator                object\n",
      "School Zone Indicator               object\n",
      "                                     ...  \n",
      "Driver 18 Years Old                 object\n",
      "Driver 19 Years Old                 object\n",
      "Driver 20 Years Old                 object\n",
      "Driver 50 - 64 Years Old            object\n",
      "Driver 65 - 74 Years Old            object\n",
      "Driver 75 Plus                      object\n",
      "Unbelted                            object\n",
      "Pedestrian                          object\n",
      "Commercial Vehicle                  object\n",
      "PSP Reported                        object\n",
      "NHTSA Aggressive Driving            object\n",
      "Deer Related                        object\n",
      "Illumination Dark                   object\n",
      "Running Stop Sign                   object\n",
      "Train                               object\n",
      "Trolley                             object\n",
      "Hit Parked Vehicle                  object\n",
      "Fire In Vehicle                     object\n",
      "Vehicle Towed                       object\n",
      "Hazardous Truck                     object\n",
      "Suspected Serious Injury            object\n",
      "Suspected Minor Injury              object\n",
      "Possible Injury                     object\n",
      "Motorcycle Drinking Driver          object\n",
      "Drug Related                        object\n",
      "Illegal Drug Related                object\n",
      "School Bus Unit                     object\n",
      "Drugged Driver                      object\n",
      "Impaired Driver                     object\n",
      "Geographic Location of the Crash    object\n",
      "Length: 180, dtype: object\n"
     ]
    }
   ],
   "source": [
    "# Exploring pa crash data using pandas dataframe\n",
    "import pandas as pd\n",
    "import numpy as np\n",
    "import matplotlib as mtp\n",
    "%matplotlib inline\n",
    "#load sample data into pandas DataFrame\n",
    "crashes = pd.read_csv('crashes2016.csv')\n",
    "# use a lambda function to select only real times <25\n",
    "# the lambda function is applied to each row in the DataFrame\n",
    "# and the function's true/false outcome is used to select\n",
    "# the subset of rows to include in our output dataframe\n",
    "cleancrashes = crashes.loc[lambda crashes: crashes['Hour of Day']<25]\n",
    "# create a Series with only hour of day\n",
    "# print(cleancrashes)\n",
    "# Create a subset of columns relevant to your study\n",
    "print(cleancrashes.dtypes)\n",
    "\n",
    "# cleancrashes['Hour of Day'].hist(bins=24)\n",
    "\n"
   ]
  },
  {
   "cell_type": "code",
   "execution_count": 33,
   "metadata": {},
   "outputs": [
    {
     "name": "stdout",
     "output_type": "stream",
     "text": [
      "<class 'numpy.ndarray'>\n"
     ]
    }
   ],
   "source": [
    "# create a smaller df with only the first dozen or so columns\n",
    "subsetdf = cleancrashes.loc[:, 'Crash Record Number':'Total Unit Count']\n",
    "# print(subsetdf.dtypes)\n",
    "subsetdf\n",
    "# counts of accidents by intersection type\n",
    "valcnt = subsetdf['Intersection Type'].value_counts()\n",
    "# extract the nump.ndarray from the Series\n",
    "rawarray = valcnt.values\n",
    "# prove that we have the underlying data structure\n",
    "print(type(rawarray))\n",
    "# valcnt.plot(kind='barh')\n",
    "\n"
   ]
  }
 ],
 "metadata": {
  "kernelspec": {
   "display_name": "Python 3",
   "language": "python",
   "name": "python3"
  },
  "language_info": {
   "codemirror_mode": {
    "name": "ipython",
    "version": 3
   },
   "file_extension": ".py",
   "mimetype": "text/x-python",
   "name": "python",
   "nbconvert_exporter": "python",
   "pygments_lexer": "ipython3",
   "version": "3.6.3"
  }
 },
 "nbformat": 4,
 "nbformat_minor": 2
}
